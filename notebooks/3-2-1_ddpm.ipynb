{
 "cells": [
  {
   "cell_type": "markdown",
   "id": "9aa42e9d-73ba-46bf-b9fc-f4861ef7875d",
   "metadata": {},
   "source": [
    "# DDPM (Denoising Diffusion Probabilistic Models) の実装"
   ]
  },
  {
   "cell_type": "code",
   "execution_count": null,
   "id": "dd4c8c56-e35a-4b7e-85d5-d1e7e5a17ec0",
   "metadata": {},
   "outputs": [],
   "source": []
  }
 ],
 "metadata": {
  "kernelspec": {
   "display_name": "Python 3 (ipykernel)",
   "language": "python",
   "name": "python3"
  },
  "language_info": {
   "codemirror_mode": {
    "name": "ipython",
    "version": 3
   },
   "file_extension": ".py",
   "mimetype": "text/x-python",
   "name": "python",
   "nbconvert_exporter": "python",
   "pygments_lexer": "ipython3",
   "version": "3.11.10"
  }
 },
 "nbformat": 4,
 "nbformat_minor": 5
}
