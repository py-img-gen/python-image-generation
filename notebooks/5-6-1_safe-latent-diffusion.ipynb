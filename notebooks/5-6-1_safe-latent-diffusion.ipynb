{
 "cells": [
  {
   "cell_type": "markdown",
   "id": "f014c3ee-a3c3-47c9-9ac0-d4f407fa3446",
   "metadata": {},
   "source": [
    "# Safe Latent Diffusion (SLD) の実装"
   ]
  },
  {
   "cell_type": "code",
   "execution_count": null,
   "id": "e62a22a5-1faa-40d7-9b6f-dbe195f890c7",
   "metadata": {},
   "outputs": [],
   "source": []
  }
 ],
 "metadata": {
  "kernelspec": {
   "display_name": "Python 3 (ipykernel)",
   "language": "python",
   "name": "python3"
  },
  "language_info": {
   "codemirror_mode": {
    "name": "ipython",
    "version": 3
   },
   "file_extension": ".py",
   "mimetype": "text/x-python",
   "name": "python",
   "nbconvert_exporter": "python",
   "pygments_lexer": "ipython3",
   "version": "3.11.10"
  }
 },
 "nbformat": 4,
 "nbformat_minor": 5
}
