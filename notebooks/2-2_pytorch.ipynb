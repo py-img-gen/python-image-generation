{
 "cells": [
  {
   "cell_type": "markdown",
   "id": "209e1706-5d7d-40df-8418-c4d088d1a415",
   "metadata": {
    "lines_to_next_cell": 2
   },
   "source": [
    "# 準備"
   ]
  },
  {
   "cell_type": "code",
   "execution_count": 1,
   "id": "db0671ca-6dbe-4b16-9ed4-ae5818107646",
   "metadata": {},
   "outputs": [],
   "source": [
    "import pathlib\n",
    "\n",
    "current_dir = pathlib.Path.cwd()\n",
    "project_dir = current_dir / \"data\" / \"pytorch-introduction\""
   ]
  },
  {
   "cell_type": "markdown",
   "id": "08292df4-a890-44ce-a6d9-b314a1c88bf2",
   "metadata": {},
   "source": [
    "# PyTorch の導入\n",
    "\n",
    "- 参考: https://pytorch.org/tutorials/beginner/basics/quickstart_tutorial.html"
   ]
  },
  {
   "cell_type": "markdown",
   "id": "8ccb1001-941a-4324-957d-16b6b8b14197",
   "metadata": {},
   "source": [
    "## データの扱い方"
   ]
  },
  {
   "cell_type": "markdown",
   "id": "8d736d3c-75b1-4b9a-b2ea-c9dd78e50781",
   "metadata": {},
   "source": [
    "### データのダウンロードと読み込み"
   ]
  },
  {
   "cell_type": "code",
   "execution_count": 2,
   "id": "09369f09-1df9-4c97-bd06-a65f036287dc",
   "metadata": {},
   "outputs": [],
   "source": [
    "from torchvision import datasets\n",
    "from torchvision.transforms import ToTensor\n",
    "\n",
    "data_dir = project_dir / \"dataset\"\n",
    "\n",
    "train_data = datasets.FashionMNIST(\n",
    "    root=data_dir,\n",
    "    train=True,\n",
    "    download=True,\n",
    "    transform=ToTensor(),\n",
    ")\n",
    "test_data = datasets.FashionMNIST(\n",
    "    root=data_dir,\n",
    "    train=False,\n",
    "    download=True,\n",
    "    transform=ToTensor(),\n",
    ")"
   ]
  },
  {
   "cell_type": "markdown",
   "id": "58cdc749-5c83-45b3-bbc7-d62a1758de9c",
   "metadata": {},
   "source": [
    "### データローダーの作成"
   ]
  },
  {
   "cell_type": "code",
   "execution_count": 3,
   "id": "05ebf765-b883-4e47-9bf4-0710624e76c5",
   "metadata": {},
   "outputs": [],
   "source": [
    "from torch.utils.data import DataLoader\n",
    "\n",
    "batch_size = 64\n",
    "\n",
    "train_dataloader = DataLoader(\n",
    "    train_data, batch_size=batch_size\n",
    ")\n",
    "test_dataloader = DataLoader(\n",
    "    test_data, batch_size=batch_size\n",
    ")"
   ]
  },
  {
   "cell_type": "markdown",
   "id": "67e8bead-f057-4e8e-aea7-c25e44f2b15d",
   "metadata": {},
   "source": [
    "### データローダーを用いたミニバッチの作成"
   ]
  },
  {
   "cell_type": "code",
   "execution_count": 4,
   "id": "afbfd839-9043-4058-9477-7e5a0b4c605b",
   "metadata": {},
   "outputs": [
    {
     "name": "stdout",
     "output_type": "stream",
     "text": [
      "Shape of Xs [N, C, H, W]: torch.Size([64, 1, 28, 28])\n",
      "Shape of ys: torch.Size([64]) torch.int64\n"
     ]
    }
   ],
   "source": [
    "(Xs, ys) = next(iter(train_dataloader))\n",
    "print(f\"Shape of Xs [N, C, H, W]: {Xs.shape}\")\n",
    "print(f\"Shape of ys: {ys.shape} {ys.dtype}\")"
   ]
  },
  {
   "cell_type": "markdown",
   "id": "5ce4b0be-f6bc-4ef9-9bb1-e972101207b7",
   "metadata": {},
   "source": [
    "### 訓練データの可視化"
   ]
  },
  {
   "cell_type": "code",
   "execution_count": 5,
   "id": "af0159fe-f54c-4a39-93b8-cb776f3c9bf9",
   "metadata": {},
   "outputs": [
    {
     "name": "stdout",
     "output_type": "stream",
     "text": [
      "('T-shirt/top', 'Trouser', 'Pullover', 'Dress', 'Coat', 'Sandal', 'Shirt', 'Sneaker', 'Bag', 'Ankle boot')\n"
     ]
    }
   ],
   "source": [
    "from py_img_gen.datasets import get_fashion_mnist_classes\n",
    "\n",
    "classes = get_fashion_mnist_classes()\n",
    "print(classes)"
   ]
  },
  {
   "cell_type": "code",
   "execution_count": 6,
   "id": "ab47e703-0eac-4f48-8096-142f25eacccf",
   "metadata": {},
   "outputs": [
    {
     "data": {
      "text/plain": [
       "Text(0.5, 1.0, 'Class: 9 (Ankle boot)')"
      ]
     },
     "execution_count": 6,
     "metadata": {},
     "output_type": "execute_result"
    },
    {
     "data": {
      "image/png": "[encoded data removed]",
      "text/plain": [
       "<Figure size 640x480 with 1 Axes>"
      ]
     },
     "metadata": {},
     "output_type": "display_data"
    }
   ],
   "source": [
    "import matplotlib.pyplot as plt\n",
    "\n",
    "idx = 0\n",
    "# shape (X): (1, 28, 28) -> (28, 28)\n",
    "X, y = Xs[idx].squeeze(dim=0), ys[idx]\n",
    "\n",
    "fig, ax = plt.subplots()\n",
    "ax.imshow(X, cmap=\"gray\")\n",
    "ax.set_title(f\"Class: {y} ({classes[y]})\")"
   ]
  },
  {
   "cell_type": "markdown",
   "id": "74debf23-5468-47bf-b56e-a07abc937d49",
   "metadata": {},
   "source": [
    "## モデルの構築"
   ]
  },
  {
   "cell_type": "markdown",
   "id": "2e170389-0d0b-4db1-8b3d-667ded740a61",
   "metadata": {},
   "source": [
    "### デバイスの取得"
   ]
  },
  {
   "cell_type": "code",
   "execution_count": 7,
   "id": "ddadf462-88d7-458b-9dbf-cbf5f8c857be",
   "metadata": {
    "lines_to_next_cell": 2
   },
   "outputs": [
    {
     "name": "stdout",
     "output_type": "stream",
     "text": [
      "Using cuda device\n"
     ]
    }
   ],
   "source": [
    "import torch\n",
    "\n",
    "device = torch.device(\n",
    "    \"cuda\" if torch.cuda.is_available() else \"cpu\"\n",
    ")\n",
    "print(f\"Using {device} device\")"
   ]
  },
  {
   "cell_type": "markdown",
   "id": "9fcccc72-9f15-481e-8ac2-bfeacc14db3a",
   "metadata": {
    "lines_to_next_cell": 2
   },
   "source": [
    "## モデルの定義"
   ]
  },
  {
   "cell_type": "code",
   "execution_count": 8,
   "id": "0483f9f9-e68a-4322-885b-8d6fa00d7484",
   "metadata": {},
   "outputs": [],
   "source": [
    "from torch import nn\n",
    "\n",
    "\n",
    "class NeuralNetwork(nn.Module):\n",
    "    def __init__(self) -> None:\n",
    "        super().__init__()\n",
    "        self.layers = nn.Sequential(\n",
    "            nn.Flatten(),\n",
    "            nn.Linear(28 * 28, 512),\n",
    "            nn.ReLU(),\n",
    "            nn.Linear(512, 512),\n",
    "            nn.ReLU(),\n",
    "            nn.Linear(512, 10),\n",
    "        )\n",
    "\n",
    "    def forward(self, x: torch.Tensor) -> torch.Tensor:\n",
    "        return self.layers(x)\n",
    "\n",
    "\n",
    "model = NeuralNetwork()\n",
    "model = model.to(device)"
   ]
  },
  {
   "cell_type": "markdown",
   "id": "32428d34-0a7b-41a5-b909-fbedb2e84b06",
   "metadata": {},
   "source": [
    "## モデルパラメータの最適化"
   ]
  },
  {
   "cell_type": "code",
   "execution_count": 9,
   "id": "db00cd67-808b-4ff8-83cb-e2bfac4308ad",
   "metadata": {
    "lines_to_next_cell": 2
   },
   "outputs": [],
   "source": [
    "loss_fn = nn.CrossEntropyLoss()\n",
    "optimizer = torch.optim.SGD(model.parameters(), lr=1e-3)"
   ]
  },
  {
   "cell_type": "markdown",
   "id": "94cb27e0-a7bd-45db-8485-ed89c873a30f",
   "metadata": {
    "lines_to_next_cell": 2
   },
   "source": [
    "### モデルの訓練方法の定義"
   ]
  },
  {
   "cell_type": "code",
   "execution_count": 10,
   "id": "813082de-38fd-4ae9-b3eb-48b6219ff8be",
   "metadata": {
    "lines_to_next_cell": 2
   },
   "outputs": [],
   "source": [
    "def train(\n",
    "    dataloader: DataLoader,\n",
    "    model: NeuralNetwork,\n",
    "    loss_fn: nn.CrossEntropyLoss,\n",
    "    optimizer: torch.optim.SGD,\n",
    ") -> None:\n",
    "    model.train()  # モデルを訓練モードに\n",
    "\n",
    "    for batch, (X, y) in enumerate(dataloader):\n",
    "        X, y = X.to(device), y.to(device)\n",
    "\n",
    "        # 予測誤差の計算\n",
    "        pred = model(X)\n",
    "        loss = loss_fn(pred, y)\n",
    "\n",
    "        # 逆伝播の実行\n",
    "        loss.backward()\n",
    "        optimizer.step()\n",
    "        optimizer.zero_grad()\n",
    "\n",
    "        if batch % 100 != 0:\n",
    "            continue\n",
    "\n",
    "        current = (batch + 1) * len(X)\n",
    "        size = len(dataloader.dataset)\n",
    "        print(\n",
    "            f\"loss: {loss.item():>7f} \"\n",
    "            f\"[{current:>5d}/{size:>5d}]\"\n",
    "        )"
   ]
  },
  {
   "cell_type": "markdown",
   "id": "a4c7e450-b332-476e-97a5-fecf2fe088b9",
   "metadata": {
    "lines_to_next_cell": 2
   },
   "source": [
    "### モデルの評価方法の定義"
   ]
  },
  {
   "cell_type": "code",
   "execution_count": 11,
   "id": "7d1597ca-b386-4506-bfe2-025f9757ac0b",
   "metadata": {},
   "outputs": [],
   "source": [
    "@torch.no_grad()\n",
    "def test(\n",
    "    dataloader: DataLoader,\n",
    "    model: NeuralNetwork,\n",
    "    loss_fn: nn.CrossEntropyLoss,\n",
    ") -> None:\n",
    "    size = len(dataloader.dataset)\n",
    "    num_batches = len(dataloader)\n",
    "    model.eval()\n",
    "    test_loss, correct = 0, 0\n",
    "\n",
    "    for X, y in dataloader:\n",
    "        X, y = X.to(device), y.to(device)\n",
    "        pred = model(X)\n",
    "        test_loss += loss_fn(pred, y).item()\n",
    "        correct += (\n",
    "            (pred.argmax(1) == y)\n",
    "            .type(torch.float)\n",
    "            .sum()\n",
    "            .item()\n",
    "        )\n",
    "    test_loss /= num_batches\n",
    "    correct /= size\n",
    "    print(\n",
    "        f\"Test Error: \\n Accuracy: {(100*correct):>0.1f}%, \"\n",
    "        f\"Avg loss: {test_loss:>8f} \\n\"\n",
    "    )"
   ]
  },
  {
   "cell_type": "markdown",
   "id": "311050a0-03d7-4db4-96bc-cfbaa8d4e837",
   "metadata": {},
   "source": [
    "### モデルの訓練と評価の実行"
   ]
  },
  {
   "cell_type": "code",
   "execution_count": 12,
   "id": "f42a60cd-3d15-484a-a0ec-4fcbe763f610",
   "metadata": {},
   "outputs": [
    {
     "name": "stdout",
     "output_type": "stream",
     "text": [
      "Epoch 1\n",
      "-------------------------------\n",
      "loss: 2.310056 [   64/60000]\n",
      "loss: 2.293284 [ 6464/60000]\n",
      "loss: 2.277781 [12864/60000]\n",
      "loss: 2.265282 [19264/60000]\n",
      "loss: 2.249432 [25664/60000]\n",
      "loss: 2.228886 [32064/60000]\n",
      "loss: 2.236590 [38464/60000]\n",
      "loss: 2.201836 [44864/60000]\n",
      "loss: 2.207553 [51264/60000]\n",
      "loss: 2.180333 [57664/60000]\n",
      "Test Error: \n",
      " Accuracy: 49.5%, Avg loss: 2.166390 \n",
      "\n",
      "Epoch 2\n",
      "-------------------------------\n",
      "loss: 2.180728 [   64/60000]\n",
      "loss: 2.161588 [ 6464/60000]\n",
      "loss: 2.110883 [12864/60000]\n",
      "loss: 2.116418 [19264/60000]\n",
      "loss: 2.074219 [25664/60000]\n",
      "loss: 2.028925 [32064/60000]\n",
      "loss: 2.046742 [38464/60000]\n",
      "loss: 1.968817 [44864/60000]\n",
      "loss: 1.978643 [51264/60000]\n",
      "loss: 1.911495 [57664/60000]\n",
      "Test Error: \n",
      " Accuracy: 58.3%, Avg loss: 1.903749 \n",
      "\n",
      "Epoch 3\n",
      "-------------------------------\n",
      "loss: 1.936665 [   64/60000]\n",
      "loss: 1.898800 [ 6464/60000]\n",
      "loss: 1.791320 [12864/60000]\n",
      "loss: 1.819715 [19264/60000]\n",
      "loss: 1.726606 [25664/60000]\n",
      "loss: 1.687999 [32064/60000]\n",
      "loss: 1.699115 [38464/60000]\n",
      "loss: 1.602564 [44864/60000]\n",
      "loss: 1.630347 [51264/60000]\n",
      "loss: 1.526706 [57664/60000]\n",
      "Test Error: \n",
      " Accuracy: 61.5%, Avg loss: 1.546023 \n",
      "\n",
      "Epoch 4\n",
      "-------------------------------\n",
      "loss: 1.608997 [   64/60000]\n",
      "loss: 1.572472 [ 6464/60000]\n",
      "loss: 1.436435 [12864/60000]\n",
      "loss: 1.493181 [19264/60000]\n",
      "loss: 1.384882 [25664/60000]\n",
      "loss: 1.392596 [32064/60000]\n",
      "loss: 1.390804 [38464/60000]\n",
      "loss: 1.321835 [44864/60000]\n",
      "loss: 1.361170 [51264/60000]\n",
      "loss: 1.256558 [57664/60000]\n",
      "Test Error: \n",
      " Accuracy: 62.7%, Avg loss: 1.286434 \n",
      "\n",
      "Epoch 5\n",
      "-------------------------------\n",
      "loss: 1.362562 [   64/60000]\n",
      "loss: 1.341657 [ 6464/60000]\n",
      "loss: 1.189281 [12864/60000]\n",
      "loss: 1.277296 [19264/60000]\n",
      "loss: 1.155350 [25664/60000]\n",
      "loss: 1.198705 [32064/60000]\n",
      "loss: 1.198916 [38464/60000]\n",
      "loss: 1.143227 [44864/60000]\n",
      "loss: 1.190422 [51264/60000]\n",
      "loss: 1.097126 [57664/60000]\n",
      "Test Error: \n",
      " Accuracy: 64.3%, Avg loss: 1.121220 \n",
      "\n",
      "Done!\n"
     ]
    }
   ],
   "source": [
    "epochs = 5\n",
    "\n",
    "for t in range(epochs):\n",
    "    print(f\"Epoch {t+1}\\n-------------------------------\")\n",
    "    train(train_dataloader, model, loss_fn, optimizer)\n",
    "    test(test_dataloader, model, loss_fn)\n",
    "print(\"Done!\")"
   ]
  },
  {
   "cell_type": "markdown",
   "id": "1056c990-4b3e-490e-bedf-19472f86362c",
   "metadata": {},
   "source": [
    "## モデルの保存"
   ]
  },
  {
   "cell_type": "code",
   "execution_count": 13,
   "id": "af6099be-4466-4b85-bf25-1d4c264f1f29",
   "metadata": {},
   "outputs": [
    {
     "name": "stdout",
     "output_type": "stream",
     "text": [
      "Saved PyTorch Model State to /root/ghq/github.com/py-img-gen/python-image-generation/notebooks/data/pytorch-introduction/model.pth\n"
     ]
    }
   ],
   "source": [
    "save_path = project_dir / \"model.pth\"\n",
    "torch.save(model.state_dict(), save_path)\n",
    "print(f\"Saved PyTorch Model State to {save_path}\")"
   ]
  },
  {
   "cell_type": "markdown",
   "id": "d1de3c98-9c1e-48ee-9105-4ccf8043c072",
   "metadata": {},
   "source": [
    "## モデルの読み込み"
   ]
  },
  {
   "cell_type": "code",
   "execution_count": 14,
   "id": "950ff964-f0e5-4820-a1a9-2c372ee31c70",
   "metadata": {},
   "outputs": [
    {
     "data": {
      "text/plain": [
       "<All keys matched successfully>"
      ]
     },
     "execution_count": 14,
     "metadata": {},
     "output_type": "execute_result"
    }
   ],
   "source": [
    "model = NeuralNetwork().to(device)\n",
    "model.load_state_dict(\n",
    "    state_dict=torch.load(save_path, weights_only=True)\n",
    ")"
   ]
  },
  {
   "cell_type": "markdown",
   "id": "90042eee-cc19-4cb1-a999-c35b3fb3f8ee",
   "metadata": {},
   "source": [
    "## 学習済みモデルを用いた予測"
   ]
  },
  {
   "cell_type": "markdown",
   "id": "96a7af0a-3d92-4890-b4bd-a403d9fc433e",
   "metadata": {},
   "source": [
    "### 予測の実行"
   ]
  },
  {
   "cell_type": "code",
   "execution_count": 15,
   "id": "16015604-57da-4c94-b551-263ee1f7f8ca",
   "metadata": {},
   "outputs": [
    {
     "name": "stdout",
     "output_type": "stream",
     "text": [
      "Predicted: \"Ankle boot\", Actual: \"Ankle boot\"\n"
     ]
    }
   ],
   "source": [
    "model.eval()\n",
    "\n",
    "(x, y) = test_data[0]\n",
    "\n",
    "with torch.no_grad():\n",
    "    x = x.to(device)\n",
    "    pred = model(x)\n",
    "    predicted, actual = (\n",
    "        classes[pred[0].argmax(0)],\n",
    "        classes[y],\n",
    "    )\n",
    "\n",
    "print(f'Predicted: \"{predicted}\", Actual: \"{actual}\"')"
   ]
  },
  {
   "cell_type": "markdown",
   "id": "5248a23a-fffe-4816-a1d9-701414e50f70",
   "metadata": {},
   "source": [
    "### 予測結果の可視化"
   ]
  },
  {
   "cell_type": "code",
   "execution_count": 16,
   "id": "295c6a5a-8f35-4b38-a633-38c358cd4f91",
   "metadata": {},
   "outputs": [
    {
     "data": {
      "text/plain": [
       "Text(0.5, 1.0, 'Class: 9 (Ankle boot)')"
      ]
     },
     "execution_count": 16,
     "metadata": {},
     "output_type": "execute_result"
    },
    {
     "data": {
      "image/png": "[encoded data removed]",
      "text/plain": [
       "<Figure size 640x480 with 1 Axes>"
      ]
     },
     "metadata": {},
     "output_type": "display_data"
    }
   ],
   "source": [
    "x = x.cpu()\n",
    "x = x.squeeze(dim=0)\n",
    "\n",
    "fig, ax = plt.subplots()\n",
    "ax.imshow(x, cmap=\"gray\")\n",
    "ax.set_title(f\"Class: {y} ({classes[y]})\")"
   ]
  }
 ],
 "metadata": {
  "kernelspec": {
   "display_name": "Python 3 (ipykernel)",
   "language": "python",
   "name": "python3"
  },
  "language_info": {
   "codemirror_mode": {
    "name": "ipython",
    "version": 3
   },
   "file_extension": ".py",
   "mimetype": "text/x-python",
   "name": "python",
   "nbconvert_exporter": "python",
   "pygments_lexer": "ipython3",
   "version": "3.10.12"
  }
 },
 "nbformat": 4,
 "nbformat_minor": 5
}
