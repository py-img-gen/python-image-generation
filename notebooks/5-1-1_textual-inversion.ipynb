{
 "cells": [
  {
   "cell_type": "markdown",
   "id": "0f8c97e6-b6f4-44b6-afdc-cb710c559b8d",
   "metadata": {},
   "source": [
    "# Textual Inversion の実装"
   ]
  },
  {
   "cell_type": "code",
   "execution_count": null,
   "id": "5992e27b-bb8f-492f-a8c2-79c434d6e4b1",
   "metadata": {},
   "outputs": [],
   "source": []
  }
 ],
 "metadata": {
  "kernelspec": {
   "display_name": "Python 3 (ipykernel)",
   "language": "python",
   "name": "python3"
  },
  "language_info": {
   "codemirror_mode": {
    "name": "ipython",
    "version": 3
   },
   "file_extension": ".py",
   "mimetype": "text/x-python",
   "name": "python",
   "nbconvert_exporter": "python",
   "pygments_lexer": "ipython3",
   "version": "3.11.10"
  }
 },
 "nbformat": 4,
 "nbformat_minor": 5
}
