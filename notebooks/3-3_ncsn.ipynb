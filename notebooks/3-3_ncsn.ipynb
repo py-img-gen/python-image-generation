{
 "cells": [
  {
   "cell_type": "markdown",
   "id": "eb0c3abb-911c-49fd-ad9f-8675f18c8bf6",
   "metadata": {},
   "source": [
    "# NCSN (Noise Conditional Score Network) の実装"
   ]
  },
  {
   "cell_type": "code",
   "execution_count": null,
   "id": "9c5905e3-850e-4ff1-a839-377be5ea5821",
   "metadata": {},
   "outputs": [],
   "source": []
  }
 ],
 "metadata": {
  "kernelspec": {
   "display_name": "Python 3 (ipykernel)",
   "language": "python",
   "name": "python3"
  },
  "language_info": {
   "codemirror_mode": {
    "name": "ipython",
    "version": 3
   },
   "file_extension": ".py",
   "mimetype": "text/x-python",
   "name": "python",
   "nbconvert_exporter": "python",
   "pygments_lexer": "ipython3",
   "version": "3.11.10"
  }
 },
 "nbformat": 4,
 "nbformat_minor": 5
}
