{
 "cells": [
  {
   "cell_type": "markdown",
   "id": "9dc99c84-92f8-4a58-939d-162628bd6916",
   "metadata": {},
   "source": [
    "# ControlNet の実装"
   ]
  },
  {
   "cell_type": "code",
   "execution_count": null,
   "id": "03ddc257-12d5-460c-87de-52618bf0b2fe",
   "metadata": {},
   "outputs": [],
   "source": []
  }
 ],
 "metadata": {
  "kernelspec": {
   "display_name": "Python 3 (ipykernel)",
   "language": "python",
   "name": "python3"
  },
  "language_info": {
   "codemirror_mode": {
    "name": "ipython",
    "version": 3
   },
   "file_extension": ".py",
   "mimetype": "text/x-python",
   "name": "python",
   "nbconvert_exporter": "python",
   "pygments_lexer": "ipython3",
   "version": "3.11.10"
  }
 },
 "nbformat": 4,
 "nbformat_minor": 5
}
