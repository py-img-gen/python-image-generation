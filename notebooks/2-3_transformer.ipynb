{
 "cells": [
  {
   "cell_type": "markdown",
   "id": "8d8fc2f1-1b4d-47a0-acdc-f17f4392564e",
   "metadata": {},
   "source": [
    "# PyTorch による Transformer の実装"
   ]
  },
  {
   "cell_type": "code",
   "execution_count": null,
   "id": "82c21544-22a3-4ec5-a063-1a57d68122c8",
   "metadata": {},
   "outputs": [],
   "source": []
  }
 ],
 "metadata": {
  "kernelspec": {
   "display_name": "Python 3 (ipykernel)",
   "language": "python",
   "name": "python3"
  },
  "language_info": {
   "codemirror_mode": {
    "name": "ipython",
    "version": 3
   },
   "file_extension": ".py",
   "mimetype": "text/x-python",
   "name": "python",
   "nbconvert_exporter": "python",
   "pygments_lexer": "ipython3",
   "version": "3.11.10"
  }
 },
 "nbformat": 4,
 "nbformat_minor": 5
}
