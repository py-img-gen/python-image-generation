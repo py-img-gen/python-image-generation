{
 "cells": [
  {
   "cell_type": "markdown",
   "id": "08f65b51-4f14-4314-8ed1-a29540e0b4bc",
   "metadata": {},
   "source": [
    "# Stable Diffusion v3 (SDv3) の実装"
   ]
  },
  {
   "cell_type": "code",
   "execution_count": null,
   "id": "c236e9c1-d4ae-4b83-a016-b63da4296367",
   "metadata": {},
   "outputs": [],
   "source": []
  }
 ],
 "metadata": {
  "kernelspec": {
   "display_name": "Python 3 (ipykernel)",
   "language": "python",
   "name": "python3"
  },
  "language_info": {
   "codemirror_mode": {
    "name": "ipython",
    "version": 3
   },
   "file_extension": ".py",
   "mimetype": "text/x-python",
   "name": "python",
   "nbconvert_exporter": "python",
   "pygments_lexer": "ipython3",
   "version": "3.11.10"
  }
 },
 "nbformat": 4,
 "nbformat_minor": 5
}
