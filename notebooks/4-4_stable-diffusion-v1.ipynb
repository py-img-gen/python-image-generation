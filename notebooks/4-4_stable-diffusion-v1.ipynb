{
 "cells": [
  {
   "cell_type": "markdown",
   "id": "be2621ad-4ce3-474f-87fd-b46565c18ce8",
   "metadata": {},
   "source": [
    "# Stable Diffusion v1 (SDv1) の実装"
   ]
  },
  {
   "cell_type": "code",
   "execution_count": null,
   "id": "ef429526-4003-4d99-a59d-f7612c6710dd",
   "metadata": {},
   "outputs": [],
   "source": []
  }
 ],
 "metadata": {
  "kernelspec": {
   "display_name": "Python 3 (ipykernel)",
   "language": "python",
   "name": "python3"
  },
  "language_info": {
   "codemirror_mode": {
    "name": "ipython",
    "version": 3
   },
   "file_extension": ".py",
   "mimetype": "text/x-python",
   "name": "python",
   "nbconvert_exporter": "python",
   "pygments_lexer": "ipython3",
   "version": "3.11.10"
  }
 },
 "nbformat": 4,
 "nbformat_minor": 5
}
