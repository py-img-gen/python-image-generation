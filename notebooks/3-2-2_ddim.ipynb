{
 "cells": [
  {
   "cell_type": "markdown",
   "id": "af0ef6ff-0a3e-4977-9e14-53922f44e0ad",
   "metadata": {},
   "source": [
    "# DDIM (Denoising Diffusion Implicit Models) の実装"
   ]
  },
  {
   "cell_type": "code",
   "execution_count": null,
   "id": "a2970da1-4fa5-430a-9025-9de726d2fafa",
   "metadata": {},
   "outputs": [],
   "source": []
  }
 ],
 "metadata": {
  "kernelspec": {
   "display_name": "Python 3 (ipykernel)",
   "language": "python",
   "name": "python3"
  },
  "language_info": {
   "codemirror_mode": {
    "name": "ipython",
    "version": 3
   },
   "file_extension": ".py",
   "mimetype": "text/x-python",
   "name": "python",
   "nbconvert_exporter": "python",
   "pygments_lexer": "ipython3",
   "version": "3.11.10"
  }
 },
 "nbformat": 4,
 "nbformat_minor": 5
}
