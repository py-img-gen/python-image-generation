{
 "cells": [
  {
   "cell_type": "markdown",
   "id": "fd44944b-7b75-43b5-8082-408b83c8fb7b",
   "metadata": {},
   "source": [
    "# 活性化関数の可視化"
   ]
  },
  {
   "cell_type": "code",
   "execution_count": null,
   "id": "5ad9ef73-8c65-4ebb-aa27-37c60fad053b",
   "metadata": {},
   "outputs": [],
   "source": []
  }
 ],
 "metadata": {
  "kernelspec": {
   "display_name": "Python 3 (ipykernel)",
   "language": "python",
   "name": "python3"
  },
  "language_info": {
   "codemirror_mode": {
    "name": "ipython",
    "version": 3
   },
   "file_extension": ".py",
   "mimetype": "text/x-python",
   "name": "python",
   "nbconvert_exporter": "python",
   "pygments_lexer": "ipython3",
   "version": "3.11.10"
  }
 },
 "nbformat": 4,
 "nbformat_minor": 5
}
