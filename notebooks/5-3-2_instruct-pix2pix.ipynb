{
 "cells": [
  {
   "cell_type": "markdown",
   "id": "28fe68ad-fcd5-46f2-a074-4fe28560b19d",
   "metadata": {},
   "source": [
    "# InstructPix2Pix の実装"
   ]
  },
  {
   "cell_type": "code",
   "execution_count": null,
   "id": "71f7c007-619a-4faf-9075-947486870c85",
   "metadata": {},
   "outputs": [],
   "source": []
  }
 ],
 "metadata": {
  "kernelspec": {
   "display_name": "Python 3 (ipykernel)",
   "language": "python",
   "name": "python3"
  },
  "language_info": {
   "codemirror_mode": {
    "name": "ipython",
    "version": 3
   },
   "file_extension": ".py",
   "mimetype": "text/x-python",
   "name": "python",
   "nbconvert_exporter": "python",
   "pygments_lexer": "ipython3",
   "version": "3.11.10"
  }
 },
 "nbformat": 4,
 "nbformat_minor": 5
}
