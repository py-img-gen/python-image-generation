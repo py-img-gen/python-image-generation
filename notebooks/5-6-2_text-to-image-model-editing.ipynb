{
 "cells": [
  {
   "cell_type": "markdown",
   "id": "5210d315-69af-41e7-9554-863bcd426d40",
   "metadata": {},
   "source": [
    "# Text-to-Image Model Editing (TIME) の実装"
   ]
  },
  {
   "cell_type": "code",
   "execution_count": null,
   "id": "2ad4c616-a8c4-499b-b5e1-77bba15c9bde",
   "metadata": {},
   "outputs": [],
   "source": []
  }
 ],
 "metadata": {
  "kernelspec": {
   "display_name": "Python 3 (ipykernel)",
   "language": "python",
   "name": "python3"
  },
  "language_info": {
   "codemirror_mode": {
    "name": "ipython",
    "version": 3
   },
   "file_extension": ".py",
   "mimetype": "text/x-python",
   "name": "python",
   "nbconvert_exporter": "python",
   "pygments_lexer": "ipython3",
   "version": "3.11.10"
  }
 },
 "nbformat": 4,
 "nbformat_minor": 5
}
