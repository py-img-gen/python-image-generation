{
 "cells": [
  {
   "cell_type": "markdown",
   "id": "b7981dab-bc5e-4aba-8960-58835fabf64e",
   "metadata": {},
   "source": [
    "# SDXL-turbo の実装"
   ]
  },
  {
   "cell_type": "code",
   "execution_count": null,
   "id": "b180a4a0-75cf-45e3-90d2-c224ab9c4e72",
   "metadata": {},
   "outputs": [],
   "source": []
  }
 ],
 "metadata": {
  "kernelspec": {
   "display_name": "Python 3 (ipykernel)",
   "language": "python",
   "name": "python3"
  },
  "language_info": {
   "codemirror_mode": {
    "name": "ipython",
    "version": 3
   },
   "file_extension": ".py",
   "mimetype": "text/x-python",
   "name": "python",
   "nbconvert_exporter": "python",
   "pygments_lexer": "ipython3",
   "version": "3.11.10"
  }
 },
 "nbformat": 4,
 "nbformat_minor": 5
}
