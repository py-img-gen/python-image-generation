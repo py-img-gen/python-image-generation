{
 "cells": [
  {
   "cell_type": "markdown",
   "id": "4e7bbd28-08a0-431f-90c0-b9bae14f095b",
   "metadata": {},
   "source": [
    "# Stable Diffusion を構成する要素を用いた実装"
   ]
  },
  {
   "cell_type": "code",
   "execution_count": null,
   "id": "016e54e9-28a7-4931-9241-c3a8d0c88612",
   "metadata": {},
   "outputs": [],
   "source": []
  }
 ],
 "metadata": {
  "kernelspec": {
   "display_name": "Python 3 (ipykernel)",
   "language": "python",
   "name": "python3"
  },
  "language_info": {
   "codemirror_mode": {
    "name": "ipython",
    "version": 3
   },
   "file_extension": ".py",
   "mimetype": "text/x-python",
   "name": "python",
   "nbconvert_exporter": "python",
   "pygments_lexer": "ipython3",
   "version": "3.11.10"
  }
 },
 "nbformat": 4,
 "nbformat_minor": 5
}
