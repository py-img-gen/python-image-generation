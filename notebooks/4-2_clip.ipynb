{
 "cells": [
  {
   "cell_type": "markdown",
   "id": "ce410206-ed51-4052-b7d2-cf99dbd15371",
   "metadata": {},
   "source": [
    "# CLIP の実装"
   ]
  },
  {
   "cell_type": "code",
   "execution_count": null,
   "id": "b3af4f87-1344-4c8a-8806-fd92088e8629",
   "metadata": {},
   "outputs": [],
   "source": []
  }
 ],
 "metadata": {
  "kernelspec": {
   "display_name": "Python 3 (ipykernel)",
   "language": "python",
   "name": "python3"
  },
  "language_info": {
   "codemirror_mode": {
    "name": "ipython",
    "version": 3
   },
   "file_extension": ".py",
   "mimetype": "text/x-python",
   "name": "python",
   "nbconvert_exporter": "python",
   "pygments_lexer": "ipython3",
   "version": "3.11.10"
  }
 },
 "nbformat": 4,
 "nbformat_minor": 5
}
