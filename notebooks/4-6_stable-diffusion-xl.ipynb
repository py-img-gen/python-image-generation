{
 "cells": [
  {
   "cell_type": "markdown",
   "id": "ca0d499e-60bf-40ae-8aa5-056a397de690",
   "metadata": {},
   "source": [
    "# SDXL の実装"
   ]
  },
  {
   "cell_type": "code",
   "execution_count": null,
   "id": "e6957e97-4ed7-438a-a6a0-2082123fbc8f",
   "metadata": {},
   "outputs": [],
   "source": []
  }
 ],
 "metadata": {
  "kernelspec": {
   "display_name": "Python 3 (ipykernel)",
   "language": "python",
   "name": "python3"
  },
  "language_info": {
   "codemirror_mode": {
    "name": "ipython",
    "version": 3
   },
   "file_extension": ".py",
   "mimetype": "text/x-python",
   "name": "python",
   "nbconvert_exporter": "python",
   "pygments_lexer": "ipython3",
   "version": "3.11.10"
  }
 },
 "nbformat": 4,
 "nbformat_minor": 5
}
