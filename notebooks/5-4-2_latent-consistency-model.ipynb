{
 "cells": [
  {
   "cell_type": "markdown",
   "id": "8e02bfc1-9688-43b7-ba86-d532328118e0",
   "metadata": {},
   "source": [
    "# Latent Consistency Model (LCM) の実装"
   ]
  },
  {
   "cell_type": "code",
   "execution_count": null,
   "id": "b48ecf65-4620-4732-a637-a141f70346f1",
   "metadata": {},
   "outputs": [],
   "source": []
  }
 ],
 "metadata": {
  "kernelspec": {
   "display_name": "Python 3 (ipykernel)",
   "language": "python",
   "name": "python3"
  },
  "language_info": {
   "codemirror_mode": {
    "name": "ipython",
    "version": 3
   },
   "file_extension": ".py",
   "mimetype": "text/x-python",
   "name": "python",
   "nbconvert_exporter": "python",
   "pygments_lexer": "ipython3",
   "version": "3.11.10"
  }
 },
 "nbformat": 4,
 "nbformat_minor": 5
}
