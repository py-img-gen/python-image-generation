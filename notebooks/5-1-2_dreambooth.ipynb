{
 "cells": [
  {
   "cell_type": "markdown",
   "id": "80ed5e62-abc7-4da6-9212-1c9ea5dce80e",
   "metadata": {},
   "source": [
    "# DreamBooth の実装"
   ]
  },
  {
   "cell_type": "code",
   "execution_count": null,
   "id": "ecbd25d3-824b-4ba2-a2f5-eb7346783804",
   "metadata": {},
   "outputs": [],
   "source": []
  }
 ],
 "metadata": {
  "kernelspec": {
   "display_name": "Python 3 (ipykernel)",
   "language": "python",
   "name": "python3"
  },
  "language_info": {
   "codemirror_mode": {
    "name": "ipython",
    "version": 3
   },
   "file_extension": ".py",
   "mimetype": "text/x-python",
   "name": "python",
   "nbconvert_exporter": "python",
   "pygments_lexer": "ipython3",
   "version": "3.11.10"
  }
 },
 "nbformat": 4,
 "nbformat_minor": 5
}
