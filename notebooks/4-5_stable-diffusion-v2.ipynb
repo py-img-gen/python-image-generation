{
 "cells": [
  {
   "cell_type": "markdown",
   "id": "4e8dec0c-c471-4df8-97b6-203497e2f136",
   "metadata": {},
   "source": [
    "# SDXL の実装"
   ]
  },
  {
   "cell_type": "code",
   "execution_count": null,
   "id": "2e8605aa-49a7-4185-8d2c-96b4d70e4f76",
   "metadata": {},
   "outputs": [],
   "source": []
  }
 ],
 "metadata": {
  "kernelspec": {
   "display_name": "Python 3 (ipykernel)",
   "language": "python",
   "name": "python3"
  },
  "language_info": {
   "codemirror_mode": {
    "name": "ipython",
    "version": 3
   },
   "file_extension": ".py",
   "mimetype": "text/x-python",
   "name": "python",
   "nbconvert_exporter": "python",
   "pygments_lexer": "ipython3",
   "version": "3.11.10"
  }
 },
 "nbformat": 4,
 "nbformat_minor": 5
}
